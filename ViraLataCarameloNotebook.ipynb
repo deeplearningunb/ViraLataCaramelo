{
 "cells": [
  {
   "cell_type": "markdown",
   "metadata": {},
   "source": [
    "# Algoritimo de identificação de Vira Latas Caramelo"
   ]
  },
  {
   "cell_type": "code",
   "execution_count": 1,
   "metadata": {
    "scrolled": true
   },
   "outputs": [
    {
     "name": "stdout",
     "output_type": "stream",
     "text": [
      "Collecting tensorflow==1.13.1\n",
      "  Using cached https://files.pythonhosted.org/packages/77/63/a9fa76de8dffe7455304c4ed635be4aa9c0bacef6e0633d87d5f54530c5c/tensorflow-1.13.1-cp36-cp36m-manylinux1_x86_64.whl\n",
      "Collecting numpy==1.16.2\n",
      "  Using cached https://files.pythonhosted.org/packages/35/d5/4f8410ac303e690144f0a0603c4b8fd3b986feb2749c435f7cdbb288f17e/numpy-1.16.2-cp36-cp36m-manylinux1_x86_64.whl\n",
      "Collecting pandas==0.24.2\n",
      "  Using cached https://files.pythonhosted.org/packages/19/74/e50234bc82c553fecdbd566d8650801e3fe2d6d8c8d940638e3d8a7c5522/pandas-0.24.2-cp36-cp36m-manylinux1_x86_64.whl\n",
      "Collecting matplotlib==3.0.3\n",
      "  Using cached https://files.pythonhosted.org/packages/e9/69/f5e05f578585ed9935247be3788b374f90701296a70c8871bcd6d21edb00/matplotlib-3.0.3-cp36-cp36m-manylinux1_x86_64.whl\n",
      "Collecting Keras==2.2.4\n",
      "  Using cached https://files.pythonhosted.org/packages/5e/10/aa32dad071ce52b5502266b5c659451cfd6ffcbf14e6c8c4f16c0ff5aaab/Keras-2.2.4-py2.py3-none-any.whl\n",
      "Requirement already satisfied: sklearn==0.0 in /home/albino/.local/lib/python3.6/site-packages (from -r requirements.txt (line 6)) (0.0)\n",
      "Requirement already satisfied: termcolor>=1.1.0 in /home/albino/.local/lib/python3.6/site-packages (from tensorflow==1.13.1->-r requirements.txt (line 1)) (1.1.0)\n",
      "Requirement already satisfied: absl-py>=0.1.6 in /home/albino/.local/lib/python3.6/site-packages (from tensorflow==1.13.1->-r requirements.txt (line 1)) (0.8.1)\n",
      "Requirement already satisfied: astor>=0.6.0 in /home/albino/.local/lib/python3.6/site-packages (from tensorflow==1.13.1->-r requirements.txt (line 1)) (0.8.0)\n",
      "Requirement already satisfied: grpcio>=1.8.6 in /home/albino/.local/lib/python3.6/site-packages (from tensorflow==1.13.1->-r requirements.txt (line 1)) (1.25.0)\n",
      "Collecting tensorflow-estimator<1.14.0rc0,>=1.13.0\n",
      "  Using cached https://files.pythonhosted.org/packages/bb/48/13f49fc3fa0fdf916aa1419013bb8f2ad09674c275b4046d5ee669a46873/tensorflow_estimator-1.13.0-py2.py3-none-any.whl\n",
      "Requirement already satisfied: six>=1.10.0 in /home/albino/.local/lib/python3.6/site-packages (from tensorflow==1.13.1->-r requirements.txt (line 1)) (1.13.0)\n",
      "Requirement already satisfied: protobuf>=3.6.1 in /home/albino/.local/lib/python3.6/site-packages (from tensorflow==1.13.1->-r requirements.txt (line 1)) (3.11.0)\n",
      "Requirement already satisfied: wheel>=0.26 in /home/albino/.local/lib/python3.6/site-packages (from tensorflow==1.13.1->-r requirements.txt (line 1)) (0.33.6)\n",
      "Collecting tensorboard<1.14.0,>=1.13.0\n",
      "  Using cached https://files.pythonhosted.org/packages/0f/39/bdd75b08a6fba41f098b6cb091b9e8c7a80e1b4d679a581a0ccd17b10373/tensorboard-1.13.1-py3-none-any.whl\n",
      "Requirement already satisfied: keras-applications>=1.0.6 in /home/albino/.local/lib/python3.6/site-packages (from tensorflow==1.13.1->-r requirements.txt (line 1)) (1.0.8)\n",
      "Requirement already satisfied: keras-preprocessing>=1.0.5 in /home/albino/.local/lib/python3.6/site-packages (from tensorflow==1.13.1->-r requirements.txt (line 1)) (1.1.0)\n",
      "Requirement already satisfied: gast>=0.2.0 in /home/albino/.local/lib/python3.6/site-packages (from tensorflow==1.13.1->-r requirements.txt (line 1)) (0.3.2)\n",
      "Requirement already satisfied: pytz>=2011k in /home/albino/.local/lib/python3.6/site-packages (from pandas==0.24.2->-r requirements.txt (line 3)) (2019.3)\n",
      "Requirement already satisfied: python-dateutil>=2.5.0 in /home/albino/.local/lib/python3.6/site-packages (from pandas==0.24.2->-r requirements.txt (line 3)) (2.8.1)\n",
      "Requirement already satisfied: kiwisolver>=1.0.1 in /home/albino/.local/lib/python3.6/site-packages (from matplotlib==3.0.3->-r requirements.txt (line 4)) (1.1.0)\n",
      "Requirement already satisfied: pyparsing!=2.0.4,!=2.1.2,!=2.1.6,>=2.0.1 in /home/albino/.local/lib/python3.6/site-packages (from matplotlib==3.0.3->-r requirements.txt (line 4)) (2.4.5)\n",
      "Requirement already satisfied: cycler>=0.10 in /home/albino/.local/lib/python3.6/site-packages (from matplotlib==3.0.3->-r requirements.txt (line 4)) (0.10.0)\n",
      "Requirement already satisfied: pyyaml in /home/albino/.local/lib/python3.6/site-packages (from Keras==2.2.4->-r requirements.txt (line 5)) (5.1.2)\n",
      "Requirement already satisfied: h5py in /home/albino/.local/lib/python3.6/site-packages (from Keras==2.2.4->-r requirements.txt (line 5)) (2.10.0)\n",
      "Requirement already satisfied: scipy>=0.14 in /home/albino/.local/lib/python3.6/site-packages (from Keras==2.2.4->-r requirements.txt (line 5)) (1.3.3)\n",
      "Requirement already satisfied: scikit-learn in /home/albino/.local/lib/python3.6/site-packages (from sklearn==0.0->-r requirements.txt (line 6)) (0.21.3)\n",
      "Requirement already satisfied: mock>=2.0.0 in /home/albino/.local/lib/python3.6/site-packages (from tensorflow-estimator<1.14.0rc0,>=1.13.0->tensorflow==1.13.1->-r requirements.txt (line 1)) (3.0.5)\n",
      "Requirement already satisfied: setuptools in /home/albino/.local/lib/python3.6/site-packages (from protobuf>=3.6.1->tensorflow==1.13.1->-r requirements.txt (line 1)) (42.0.1)\n",
      "Requirement already satisfied: werkzeug>=0.11.15 in /home/albino/.local/lib/python3.6/site-packages (from tensorboard<1.14.0,>=1.13.0->tensorflow==1.13.1->-r requirements.txt (line 1)) (0.16.0)\n",
      "Requirement already satisfied: markdown>=2.6.8 in /home/albino/.local/lib/python3.6/site-packages (from tensorboard<1.14.0,>=1.13.0->tensorflow==1.13.1->-r requirements.txt (line 1)) (3.1.1)\n",
      "Requirement already satisfied: joblib>=0.11 in /home/albino/.local/lib/python3.6/site-packages (from scikit-learn->sklearn==0.0->-r requirements.txt (line 6)) (0.14.0)\n",
      "Installing collected packages: numpy, tensorflow-estimator, tensorboard, tensorflow, pandas, matplotlib, Keras\n",
      "  Found existing installation: numpy 1.17.4\n",
      "    Uninstalling numpy-1.17.4:\n",
      "      Successfully uninstalled numpy-1.17.4\n",
      "  Found existing installation: tensorflow-estimator 1.14.0\n",
      "    Uninstalling tensorflow-estimator-1.14.0:\n",
      "      Successfully uninstalled tensorflow-estimator-1.14.0\n",
      "  Found existing installation: tensorboard 1.14.0\n",
      "    Uninstalling tensorboard-1.14.0:\n",
      "      Successfully uninstalled tensorboard-1.14.0\n",
      "  Found existing installation: tensorflow 1.14.0\n",
      "    Uninstalling tensorflow-1.14.0:\n",
      "      Successfully uninstalled tensorflow-1.14.0\n",
      "  Found existing installation: pandas 0.25.3\n",
      "    Uninstalling pandas-0.25.3:\n",
      "      Successfully uninstalled pandas-0.25.3\n",
      "  Found existing installation: matplotlib 3.1.2\n",
      "    Uninstalling matplotlib-3.1.2:\n",
      "      Successfully uninstalled matplotlib-3.1.2\n",
      "  Found existing installation: Keras 2.3.1\n",
      "    Uninstalling Keras-2.3.1:\n",
      "      Successfully uninstalled Keras-2.3.1\n",
      "Successfully installed Keras-2.2.4 matplotlib-3.0.3 numpy-1.16.2 pandas-0.24.2 tensorboard-1.13.1 tensorflow-1.13.1 tensorflow-estimator-1.13.0\n",
      "Collecting git+git://github.com/Theano/Theano.git\n",
      "  Cloning git://github.com/Theano/Theano.git to /tmp/pip-req-build-rr3dwvis\n",
      "  Running command git clone -q git://github.com/Theano/Theano.git /tmp/pip-req-build-rr3dwvis\n",
      "Building wheels for collected packages: Theano\n",
      "  Building wheel for Theano (setup.py) ... \u001b[?25ldone\n",
      "\u001b[?25h  Created wheel for Theano: filename=Theano-1.0.4+23.g630974a7b-cp36-none-any.whl size=2667497 sha256=d6ed2f3ff1adc0182b090ace5702c7ab3cb476b430fc7d832460f0a35a7a4e4f\n",
      "  Stored in directory: /tmp/pip-ephem-wheel-cache-yukswwd5/wheels/ae/32/7c/62beb8371953eb20c271b3bac7d0e56e1a2020d46994346b52\n",
      "Successfully built Theano\n",
      "Installing collected packages: Theano\n",
      "  Found existing installation: Theano 1.0.4+23.g630974a7b\n",
      "    Uninstalling Theano-1.0.4+23.g630974a7b:\n",
      "      Successfully uninstalled Theano-1.0.4+23.g630974a7b\n",
      "Successfully installed Theano-1.0.4+23.g630974a7b\n",
      "Requirement already satisfied: tensorflow in /home/albino/.local/lib/python3.6/site-packages (1.13.1)\n",
      "Requirement already satisfied: absl-py>=0.1.6 in /home/albino/.local/lib/python3.6/site-packages (from tensorflow) (0.8.1)\n",
      "Requirement already satisfied: termcolor>=1.1.0 in /home/albino/.local/lib/python3.6/site-packages (from tensorflow) (1.1.0)\n",
      "Requirement already satisfied: grpcio>=1.8.6 in /home/albino/.local/lib/python3.6/site-packages (from tensorflow) (1.25.0)\n",
      "Requirement already satisfied: numpy>=1.13.3 in /home/albino/.local/lib/python3.6/site-packages (from tensorflow) (1.16.2)\n",
      "Requirement already satisfied: keras-applications>=1.0.6 in /home/albino/.local/lib/python3.6/site-packages (from tensorflow) (1.0.8)\n",
      "Requirement already satisfied: tensorboard<1.14.0,>=1.13.0 in /home/albino/.local/lib/python3.6/site-packages (from tensorflow) (1.13.1)\n",
      "Requirement already satisfied: tensorflow-estimator<1.14.0rc0,>=1.13.0 in /home/albino/.local/lib/python3.6/site-packages (from tensorflow) (1.13.0)\n",
      "Requirement already satisfied: protobuf>=3.6.1 in /home/albino/.local/lib/python3.6/site-packages (from tensorflow) (3.11.0)\n",
      "Requirement already satisfied: keras-preprocessing>=1.0.5 in /home/albino/.local/lib/python3.6/site-packages (from tensorflow) (1.1.0)\n"
     ]
    },
    {
     "name": "stdout",
     "output_type": "stream",
     "text": [
      "Requirement already satisfied: six>=1.10.0 in /home/albino/.local/lib/python3.6/site-packages (from tensorflow) (1.13.0)\n",
      "Requirement already satisfied: wheel>=0.26 in /home/albino/.local/lib/python3.6/site-packages (from tensorflow) (0.33.6)\n",
      "Requirement already satisfied: gast>=0.2.0 in /home/albino/.local/lib/python3.6/site-packages (from tensorflow) (0.3.2)\n",
      "Requirement already satisfied: astor>=0.6.0 in /home/albino/.local/lib/python3.6/site-packages (from tensorflow) (0.8.0)\n",
      "Requirement already satisfied: h5py in /home/albino/.local/lib/python3.6/site-packages (from keras-applications>=1.0.6->tensorflow) (2.10.0)\n",
      "Requirement already satisfied: werkzeug>=0.11.15 in /home/albino/.local/lib/python3.6/site-packages (from tensorboard<1.14.0,>=1.13.0->tensorflow) (0.16.0)\n",
      "Requirement already satisfied: markdown>=2.6.8 in /home/albino/.local/lib/python3.6/site-packages (from tensorboard<1.14.0,>=1.13.0->tensorflow) (3.1.1)\n",
      "Requirement already satisfied: mock>=2.0.0 in /home/albino/.local/lib/python3.6/site-packages (from tensorflow-estimator<1.14.0rc0,>=1.13.0->tensorflow) (3.0.5)\n",
      "Requirement already satisfied: setuptools in /home/albino/.local/lib/python3.6/site-packages (from protobuf>=3.6.1->tensorflow) (42.0.1)\n",
      "Collecting keras\n",
      "  Using cached https://files.pythonhosted.org/packages/ad/fd/6bfe87920d7f4fd475acd28500a42482b6b84479832bdc0fe9e589a60ceb/Keras-2.3.1-py2.py3-none-any.whl\n",
      "Requirement already satisfied, skipping upgrade: h5py in /home/albino/.local/lib/python3.6/site-packages (from keras) (2.10.0)\n",
      "Requirement already satisfied, skipping upgrade: pyyaml in /home/albino/.local/lib/python3.6/site-packages (from keras) (5.1.2)\n",
      "Requirement already satisfied, skipping upgrade: keras-applications>=1.0.6 in /home/albino/.local/lib/python3.6/site-packages (from keras) (1.0.8)\n",
      "Requirement already satisfied, skipping upgrade: keras-preprocessing>=1.0.5 in /home/albino/.local/lib/python3.6/site-packages (from keras) (1.1.0)\n",
      "Requirement already satisfied, skipping upgrade: scipy>=0.14 in /home/albino/.local/lib/python3.6/site-packages (from keras) (1.3.3)\n",
      "Requirement already satisfied, skipping upgrade: six>=1.9.0 in /home/albino/.local/lib/python3.6/site-packages (from keras) (1.13.0)\n",
      "Requirement already satisfied, skipping upgrade: numpy>=1.9.1 in /home/albino/.local/lib/python3.6/site-packages (from keras) (1.16.2)\n",
      "Installing collected packages: keras\n",
      "  Found existing installation: Keras 2.2.4\n",
      "    Uninstalling Keras-2.2.4:\n",
      "      Successfully uninstalled Keras-2.2.4\n",
      "Successfully installed keras-2.3.1\n"
     ]
    }
   ],
   "source": [
    "! pip3 install -r requirements.txt --user\n",
    "! pip3 install --upgrade --no-deps git+git://github.com/Theano/Theano.git --user\n",
    "! pip3 install tensorflow --user\n",
    "! pip3 install --upgrade keras --user"
   ]
  },
  {
   "cell_type": "code",
   "execution_count": 2,
   "metadata": {},
   "outputs": [
    {
     "name": "stderr",
     "output_type": "stream",
     "text": [
      "Using TensorFlow backend.\n"
     ]
    }
   ],
   "source": [
    "# Importando bibliotecas e pacotes do keras.\n",
    "from keras.preprocessing.image import ImageDataGenerator\n",
    "from keras.models import Sequential\n",
    "from keras.layers import Conv2D\n",
    "from keras.layers import MaxPooling2D\n",
    "from keras.layers import Flatten\n",
    "from keras.layers import Dense"
   ]
  },
  {
   "cell_type": "markdown",
   "metadata": {},
   "source": [
    "## Construindo e iniciando a CNN"
   ]
  },
  {
   "cell_type": "code",
   "execution_count": 3,
   "metadata": {},
   "outputs": [
    {
     "name": "stdout",
     "output_type": "stream",
     "text": [
      "WARNING:tensorflow:From /home/albino/.local/lib/python3.6/site-packages/tensorflow/python/ops/resource_variable_ops.py:435: colocate_with (from tensorflow.python.framework.ops) is deprecated and will be removed in a future version.\n",
      "Instructions for updating:\n",
      "Colocations handled automatically by placer.\n"
     ]
    }
   ],
   "source": [
    "# Inicializando a Rede Neural Convolucional\n",
    "classifier = Sequential()\n",
    "\n",
    "# Passo 1 - Primeira Camada de Convolução\n",
    "classifier.add(Conv2D(32, (3, 3), input_shape=(64, 64, 3), activation='relu'))\n",
    "\n",
    "# Passo 2 - Agrupamento\n",
    "classifier.add(MaxPooling2D(pool_size=(2, 2)))\n",
    "\n",
    "# Adicionando a Segunda Camada de Convolução\n",
    "classifier.add(Conv2D(32, (3, 3), activation='relu'))\n",
    "classifier.add(MaxPooling2D(pool_size=(2, 2)))\n",
    "\n",
    "# Passo 3 - Flattening\n",
    "classifier.add(Flatten())\n",
    "\n",
    "# Passo 4 - Conetando tudo\n",
    "classifier.add(Dense(units=128, activation='relu'))\n",
    "classifier.add(Dense(units=1, activation='sigmoid'))\n",
    "\n",
    "# Compilando a rede\n",
    "classifier.compile(\n",
    "    optimizer='adam', loss='binary_crossentropy', metrics=['accuracy'])\n"
   ]
  },
  {
   "cell_type": "markdown",
   "metadata": {},
   "source": [
    "### Adicionando as imagens para treinar"
   ]
  },
  {
   "cell_type": "code",
   "execution_count": 6,
   "metadata": {},
   "outputs": [
    {
     "name": "stdout",
     "output_type": "stream",
     "text": [
      "Found 536 images belonging to 2 classes.\n",
      "Found 228 images belonging to 2 classes.\n",
      "Epoch 1/25\n",
      "20/20 [==============================] - 11s 527ms/step - loss: 0.0450 - accuracy: 0.9842 - val_loss: 2.5815 - val_accuracy: 0.8502\n",
      "Epoch 2/25\n",
      "20/20 [==============================] - 11s 573ms/step - loss: 0.0510 - accuracy: 0.9824 - val_loss: 4.1797 - val_accuracy: 0.8382\n",
      "Epoch 3/25\n",
      "20/20 [==============================] - 11s 539ms/step - loss: 0.0436 - accuracy: 0.9826 - val_loss: 1.0794 - val_accuracy: 0.8247\n",
      "Epoch 4/25\n",
      "20/20 [==============================] - 10s 522ms/step - loss: 0.0412 - accuracy: 0.9859 - val_loss: 0.0049 - val_accuracy: 0.8283\n",
      "Epoch 5/25\n",
      "20/20 [==============================] - 10s 491ms/step - loss: 0.0277 - accuracy: 0.9920 - val_loss: 1.2785 - val_accuracy: 0.8425\n",
      "Epoch 6/25\n",
      "20/20 [==============================] - 13s 631ms/step - loss: 0.0302 - accuracy: 0.9921 - val_loss: 1.1829 - val_accuracy: 0.8544\n",
      "Epoch 7/25\n",
      "20/20 [==============================] - 10s 512ms/step - loss: 0.0459 - accuracy: 0.9826 - val_loss: 0.9633 - val_accuracy: 0.8534\n",
      "Epoch 8/25\n",
      "20/20 [==============================] - 10s 523ms/step - loss: 0.0677 - accuracy: 0.9715 - val_loss: 1.5945e-05 - val_accuracy: 0.8477\n",
      "Epoch 9/25\n",
      "20/20 [==============================] - 11s 549ms/step - loss: 0.0955 - accuracy: 0.9636 - val_loss: 0.9270 - val_accuracy: 0.8694\n",
      "Epoch 10/25\n",
      "20/20 [==============================] - 11s 564ms/step - loss: 0.1355 - accuracy: 0.9487 - val_loss: 1.2279e-05 - val_accuracy: 0.8583\n",
      "Epoch 11/25\n",
      "20/20 [==============================] - 10s 490ms/step - loss: 0.0622 - accuracy: 0.9719 - val_loss: 1.0439 - val_accuracy: 0.8691\n",
      "Epoch 12/25\n",
      "20/20 [==============================] - 13s 631ms/step - loss: 0.0444 - accuracy: 0.9792 - val_loss: 0.0020 - val_accuracy: 0.8635\n",
      "Epoch 13/25\n",
      "20/20 [==============================] - 9s 460ms/step - loss: 0.0336 - accuracy: 0.9905 - val_loss: 1.4138 - val_accuracy: 0.8596\n",
      "Epoch 14/25\n",
      "20/20 [==============================] - 9s 450ms/step - loss: 0.0300 - accuracy: 0.9920 - val_loss: 0.1495 - val_accuracy: 0.8508\n",
      "Epoch 15/25\n",
      "20/20 [==============================] - 10s 479ms/step - loss: 0.0221 - accuracy: 0.9953 - val_loss: 1.5270 - val_accuracy: 0.8387\n",
      "Epoch 16/25\n",
      "20/20 [==============================] - 10s 491ms/step - loss: 0.0303 - accuracy: 0.9936 - val_loss: 3.2783e-07 - val_accuracy: 0.8498\n",
      "Epoch 17/25\n",
      "20/20 [==============================] - 12s 594ms/step - loss: 0.0365 - accuracy: 0.9873 - val_loss: 1.6809 - val_accuracy: 0.8474\n",
      "Epoch 18/25\n",
      "20/20 [==============================] - 12s 575ms/step - loss: 0.0345 - accuracy: 0.9873 - val_loss: 2.2089 - val_accuracy: 0.8191\n",
      "Epoch 19/25\n",
      "20/20 [==============================] - 10s 512ms/step - loss: 0.0416 - accuracy: 0.9810 - val_loss: 1.0244 - val_accuracy: 0.8376\n",
      "Epoch 20/25\n",
      "20/20 [==============================] - 10s 486ms/step - loss: 0.0566 - accuracy: 0.9810 - val_loss: 0.0032 - val_accuracy: 0.8642\n",
      "Epoch 21/25\n",
      "20/20 [==============================] - 10s 485ms/step - loss: 0.0453 - accuracy: 0.9858 - val_loss: 0.8488 - val_accuracy: 0.8527\n",
      "Epoch 22/25\n",
      "20/20 [==============================] - 10s 487ms/step - loss: 0.0469 - accuracy: 0.9858 - val_loss: 0.0866 - val_accuracy: 0.8410\n",
      "Epoch 23/25\n",
      "20/20 [==============================] - 12s 612ms/step - loss: 0.0359 - accuracy: 0.9840 - val_loss: 1.0442 - val_accuracy: 0.8565\n",
      "Epoch 24/25\n",
      "20/20 [==============================] - 9s 461ms/step - loss: 0.0282 - accuracy: 0.9889 - val_loss: 8.7344e-05 - val_accuracy: 0.8494\n",
      "Epoch 25/25\n",
      "20/20 [==============================] - 9s 464ms/step - loss: 0.0225 - accuracy: 0.9953 - val_loss: 2.4140 - val_accuracy: 0.8544\n"
     ]
    },
    {
     "data": {
      "text/plain": [
       "<keras.callbacks.callbacks.History at 0x7f0448c8ddd8>"
      ]
     },
     "execution_count": 6,
     "metadata": {},
     "output_type": "execute_result"
    }
   ],
   "source": [
    "# Part 2 - Adaptando a CNN para as imagens\n",
    "\n",
    "\n",
    "train_datagen = ImageDataGenerator(rescale=1./255,\n",
    "                                   shear_range=0.2,\n",
    "                                   zoom_range=0.2,\n",
    "                                   horizontal_flip=True)\n",
    "\n",
    "test_datagen = ImageDataGenerator(rescale=1./255)\n",
    "\n",
    "training_set = train_datagen.flow_from_directory('dataset/training_set',\n",
    "                                                 target_size=(64, 64),\n",
    "                                                 batch_size=32,\n",
    "                                                 class_mode='binary')\n",
    "\n",
    "test_set = test_datagen.flow_from_directory('dataset/test_set',\n",
    "                                            target_size=(64, 64),\n",
    "                                            batch_size=32,\n",
    "                                            class_mode='binary')\n",
    "\n",
    "classifier.fit_generator(training_set,\n",
    "                         steps_per_epoch=8000,\n",
    "                         epochs=25,\n",
    "                         validation_data=test_set,\n",
    "                         validation_steps=2000)"
   ]
  },
  {
   "cell_type": "markdown",
   "metadata": {},
   "source": [
    "## Fazendo as previsões"
   ]
  },
  {
   "cell_type": "code",
   "execution_count": 10,
   "metadata": {},
   "outputs": [
    {
     "name": "stdout",
     "output_type": "stream",
     "text": [
      "Caramelo\n"
     ]
    }
   ],
   "source": [
    "# Part 3 - Predição do vira lata caramelo:\n",
    "\n",
    "import numpy as np\n",
    "from keras.preprocessing import image\n",
    "test_image = image.load_img('dataset/single_prediction/caramelo_or_normal_1.jpg', target_size = (64, 64))\n",
    "test_image = image.img_to_array(test_image)\n",
    "test_image = np.expand_dims(test_image, axis = 0)\n",
    "result = classifier.predict(test_image)\n",
    "training_set.class_indices\n",
    "if result[0][0] == 1:\n",
    "    prediction = 'Caramelo'\n",
    "else:\n",
    "    prediction = 'Normal'\n",
    "print('Predição da foto do vira lata caramelo: ' + prediction)"
   ]
  },
  {
   "cell_type": "code",
   "execution_count": 14,
   "metadata": {},
   "outputs": [
    {
     "name": "stdout",
     "output_type": "stream",
     "text": [
      "Predição da foto do cachorro normal: Caramelo\n"
     ]
    }
   ],
   "source": [
    "# Part 3 - Making new predictions\n",
    "\n",
    "import numpy as np\n",
    "from keras.preprocessing import image\n",
    "test_image = image.load_img('dataset/single_prediction/caramelo_or_normal_2.jpg', target_size = (64, 64))\n",
    "test_image = image.img_to_array(test_image)\n",
    "test_image = np.expand_dims(test_image, axis = 0)\n",
    "result = classifier.predict(test_image)\n",
    "training_set.class_indices\n",
    "if result[0][0] == 1:\n",
    "    prediction = 'Caramelo'\n",
    "else:\n",
    "    prediction = 'Normal'\n",
    "print('Predição da foto do cachorro normal: ' + prediction)"
   ]
  }
 ],
 "metadata": {
  "kernelspec": {
   "display_name": "Python 3",
   "language": "python",
   "name": "python3"
  },
  "language_info": {
   "codemirror_mode": {
    "name": "ipython",
    "version": 3
   },
   "file_extension": ".py",
   "mimetype": "text/x-python",
   "name": "python",
   "nbconvert_exporter": "python",
   "pygments_lexer": "ipython3",
   "version": "3.6.8"
  }
 },
 "nbformat": 4,
 "nbformat_minor": 4
}